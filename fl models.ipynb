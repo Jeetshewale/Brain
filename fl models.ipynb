{
 "cells": [
  {
   "cell_type": "code",
   "execution_count": 1,
   "metadata": {},
   "outputs": [],
   "source": [
    "import os\n",
    "import shutil\n",
    "import random\n",
    "import matplotlib.pyplot as plt\n",
    "import numpy as np"
   ]
  },
  {
   "cell_type": "markdown",
   "metadata": {},
   "source": [
    "## Distributing the data"
   ]
  },
  {
   "cell_type": "markdown",
   "metadata": {},
   "source": [
    "Distributing the data into 5 different clients"
   ]
  },
  {
   "cell_type": "code",
   "execution_count": 5,
   "metadata": {},
   "outputs": [
    {
     "name": "stdout",
     "output_type": "stream",
     "text": [
      "Data successfully distributed among 5 clients in 'federated data' folder.\n"
     ]
    }
   ],
   "source": [
    "def create_federated_data(source_folder, num_clients=5, output_folder=\"federated data\"):\n",
    "    if not os.path.exists(source_folder):\n",
    "        print(f\"Source folder '{source_folder}' does not exist.\")\n",
    "        return\n",
    "    \n",
    "    # Create output folder\n",
    "    os.makedirs(output_folder, exist_ok=True)\n",
    "    \n",
    "    # Get class subfolders\n",
    "    class_folders = [d for d in os.listdir(source_folder) if os.path.isdir(os.path.join(source_folder, d))]\n",
    "    \n",
    "    # Create client directories\n",
    "    for client_id in range(1, num_clients + 1):\n",
    "        client_path = os.path.join(output_folder, f\"client_{client_id}\")\n",
    "        os.makedirs(client_path, exist_ok=True)\n",
    "        for class_name in class_folders:\n",
    "            os.makedirs(os.path.join(client_path, class_name), exist_ok=True)\n",
    "    \n",
    "    # Distribute images\n",
    "    for class_name in class_folders:\n",
    "        class_path = os.path.join(source_folder, class_name)\n",
    "        images = os.listdir(class_path)\n",
    "        random.shuffle(images)  # Shuffle images for randomness\n",
    "        \n",
    "        # Split images across clients\n",
    "        for idx, image in enumerate(images):\n",
    "            client_id = (idx % num_clients) + 1  # Distribute evenly\n",
    "            src = os.path.join(class_path, image)\n",
    "            dst = os.path.join(output_folder, f\"client_{client_id}\", class_name, image)\n",
    "            shutil.copy2(src, dst)\n",
    "    \n",
    "    print(f\"Data successfully distributed among {num_clients} clients in '{output_folder}' folder.\")\n",
    "\n",
    "create_federated_data(\"processed data\", num_clients=5, output_folder=\"federated data\")"
   ]
  },
  {
   "cell_type": "markdown",
   "metadata": {},
   "source": [
    "Splitting the data fro each client into train(70%), test(15%) and validation(15%) sets"
   ]
  },
  {
   "cell_type": "code",
   "execution_count": 7,
   "metadata": {},
   "outputs": [
    {
     "name": "stdout",
     "output_type": "stream",
     "text": [
      "Data successfully split into train, val, and test sets for each client.\n"
     ]
    }
   ],
   "source": [
    "def split_client_data(client_folder, train_ratio=0.7, val_ratio=0.15, test_ratio=0.15):\n",
    "    if not os.path.exists(client_folder):\n",
    "        print(f\"Client folder '{client_folder}' does not exist.\")\n",
    "        return\n",
    "    \n",
    "    # Paths for train, val, and test sets\n",
    "    split_folders = [\"train\", \"val\", \"test\"]\n",
    "    for split in split_folders:\n",
    "        os.makedirs(os.path.join(client_folder, split), exist_ok=True)\n",
    "    \n",
    "    # Get only the actual class folders (excluding train, val, test)\n",
    "    class_folders = [d for d in os.listdir(client_folder) \n",
    "                     if os.path.isdir(os.path.join(client_folder, d)) and d not in split_folders]\n",
    "    \n",
    "    for class_name in class_folders:\n",
    "        class_path = os.path.join(client_folder, class_name)\n",
    "        images = [img for img in os.listdir(class_path) if os.path.isfile(os.path.join(class_path, img))]\n",
    "        \n",
    "        if not images:\n",
    "            continue  # Skip empty classes\n",
    "        \n",
    "        random.shuffle(images)\n",
    "        \n",
    "        num_images = len(images)\n",
    "        train_end = max(int(num_images * train_ratio), 1)  # Ensure at least one image in train\n",
    "        val_end = max(train_end + int(num_images * val_ratio), train_end + 1)  # Ensure at least one in val\n",
    "        \n",
    "        # Ensure that at least one image is left for test if possible\n",
    "        if num_images - val_end == 0 and val_end > train_end:\n",
    "            val_end -= 1  # Adjust to keep at least one for test\n",
    "        \n",
    "        splits = {\n",
    "            \"train\": images[:train_end],\n",
    "            \"val\": images[train_end:val_end],\n",
    "            \"test\": images[val_end:] if val_end < num_images else images[train_end:]  # Ensure test set is not empty\n",
    "        }\n",
    "        \n",
    "        for split, split_images in splits.items():\n",
    "            split_path = os.path.join(client_folder, split, class_name)\n",
    "            os.makedirs(split_path, exist_ok=True)  # Create correct class directory inside split\n",
    "            for image in split_images:\n",
    "                shutil.move(os.path.join(class_path, image), os.path.join(split_path, image))\n",
    "        \n",
    "        # Remove the empty class folder after moving files\n",
    "        shutil.rmtree(class_path, ignore_errors=True)\n",
    "\n",
    "# Apply split to all clients\n",
    "clients_folder = \"federated data\"\n",
    "for client in os.listdir(clients_folder):\n",
    "    client_path = os.path.join(clients_folder, client)\n",
    "    if os.path.isdir(client_path):\n",
    "        split_client_data(client_path)\n",
    "\n",
    "print(\"Data successfully split into train, val, and test sets for each client.\")"
   ]
  },
  {
   "cell_type": "markdown",
   "metadata": {},
   "source": [
    "Distribution of data into train, test and val sets for each client"
   ]
  },
  {
   "cell_type": "code",
   "execution_count": 4,
   "metadata": {},
   "outputs": [
    {
     "data": {
      "image/png": "[encoded data removed]",
      "text/plain": [
       "<Figure size 1000x600 with 1 Axes>"
      ]
     },
     "metadata": {},
     "output_type": "display_data"
    }
   ],
   "source": [
    "def count_images_in_split(client_folder):\n",
    "    split_counts = {\"train\": 0, \"val\": 0, \"test\": 0}\n",
    "    \n",
    "    for split in split_counts.keys():\n",
    "        split_path = os.path.join(client_folder, split)\n",
    "        if os.path.exists(split_path):\n",
    "            split_counts[split] = sum(len(files) for _, _, files in os.walk(split_path))\n",
    "    \n",
    "    return split_counts\n",
    "\n",
    "def plot_client_data_distribution(clients_folder):\n",
    "    clients = [d for d in os.listdir(clients_folder) if os.path.isdir(os.path.join(clients_folder, d))]\n",
    "    train_counts, val_counts, test_counts = [], [], []\n",
    "    \n",
    "    for client in clients:\n",
    "        client_path = os.path.join(clients_folder, client)\n",
    "        counts = count_images_in_split(client_path)\n",
    "        train_counts.append(counts[\"train\"])\n",
    "        val_counts.append(counts[\"val\"])\n",
    "        test_counts.append(counts[\"test\"])\n",
    "    \n",
    "    x = np.arange(len(clients))\n",
    "    width = 0.2  # Bar width\n",
    "    \n",
    "    fig, ax = plt.subplots(figsize=(10, 6))\n",
    "    ax.bar(x - width, train_counts, width, label='Train', color='skyblue')\n",
    "    ax.bar(x, val_counts, width, label='Validation', color='orange')\n",
    "    ax.bar(x + width, test_counts, width, label='Test', color='red')\n",
    "    \n",
    "    ax.set_xlabel(\"Clients\")\n",
    "    ax.set_ylabel(\"Number of Images\")\n",
    "    ax.set_title(\"Dataset Distribution Across Clients\")\n",
    "    ax.set_xticks(x)\n",
    "    ax.set_xticklabels(clients, rotation=45)\n",
    "    ax.legend()\n",
    "    \n",
    "    plt.tight_layout()\n",
    "    plt.show()\n",
    "\n",
    "plot_client_data_distribution(\"federated data\")"
   ]
  }
 ],
 "metadata": {
  "kernelspec": {
   "display_name": "brtu",
   "language": "python",
   "name": "python3"
  },
  "language_info": {
   "codemirror_mode": {
    "name": "ipython",
    "version": 3
   },
   "file_extension": ".py",
   "mimetype": "text/x-python",
   "name": "python",
   "nbconvert_exporter": "python",
   "pygments_lexer": "ipython3",
   "version": "3.12.9"
  }
 },
 "nbformat": 4,
 "nbformat_minor": 2
}
