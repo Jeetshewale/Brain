{
 "cells": [
  {
   "cell_type": "code",
   "execution_count": 1,
   "metadata": {},
   "outputs": [],
   "source": [
    "import os\n",
    "import shutil\n",
    "import random"
   ]
  },
  {
   "cell_type": "code",
   "execution_count": null,
   "metadata": {},
   "outputs": [
    {
     "name": "stdout",
     "output_type": "stream",
     "text": [
      "Data successfully distributed among 5 clients in 'federated data' folder.\n"
     ]
    }
   ],
   "source": [
    "def create_federated_data(source_folder, num_clients=5, output_folder=\"federated data\"):\n",
    "    if not os.path.exists(source_folder):\n",
    "        print(f\"Source folder '{source_folder}' does not exist.\")\n",
    "        return\n",
    "    \n",
    "    # Create output folder\n",
    "    os.makedirs(output_folder, exist_ok=True)\n",
    "    \n",
    "    # Get class subfolders\n",
    "    class_folders = [d for d in os.listdir(source_folder) if os.path.isdir(os.path.join(source_folder, d))]\n",
    "    \n",
    "    # Create client directories\n",
    "    for client_id in range(1, num_clients + 1):\n",
    "        client_path = os.path.join(output_folder, f\"client_{client_id}\")\n",
    "        os.makedirs(client_path, exist_ok=True)\n",
    "        for class_name in class_folders:\n",
    "            os.makedirs(os.path.join(client_path, class_name), exist_ok=True)\n",
    "    \n",
    "    # Distribute images\n",
    "    for class_name in class_folders:\n",
    "        class_path = os.path.join(source_folder, class_name)\n",
    "        images = os.listdir(class_path)\n",
    "        random.shuffle(images)  # Shuffle images for randomness\n",
    "        \n",
    "        # Split images across clients\n",
    "        for idx, image in enumerate(images):\n",
    "            client_id = (idx % num_clients) + 1  # Distribute evenly\n",
    "            src = os.path.join(class_path, image)\n",
    "            dst = os.path.join(output_folder, f\"client_{client_id}\", class_name, image)\n",
    "            shutil.copy2(src, dst)\n",
    "    \n",
    "    print(f\"Data successfully distributed among {num_clients} clients in '{output_folder}' folder.\")\n",
    "\n",
    "create_federated_data(\"processed data\", num_clients=5, output_folder=\"federated data\")"
   ]
  },
  {
   "cell_type": "code",
   "execution_count": 3,
   "metadata": {},
   "outputs": [
    {
     "ename": "OSError",
     "evalue": "[WinError 145] The directory is not empty: 'federated data\\\\client_1\\\\test'",
     "output_type": "error",
     "traceback": [
      "\u001b[31m---------------------------------------------------------------------------\u001b[39m",
      "\u001b[31mOSError\u001b[39m                                   Traceback (most recent call last)",
      "\u001b[36mCell\u001b[39m\u001b[36m \u001b[39m\u001b[32mIn[3]\u001b[39m\u001b[32m, line 42\u001b[39m\n\u001b[32m     40\u001b[39m     client_path = os.path.join(clients_folder, client)\n\u001b[32m     41\u001b[39m     \u001b[38;5;28;01mif\u001b[39;00m os.path.isdir(client_path):\n\u001b[32m---> \u001b[39m\u001b[32m42\u001b[39m         \u001b[43msplit_client_data\u001b[49m\u001b[43m(\u001b[49m\u001b[43mclient_path\u001b[49m\u001b[43m)\u001b[49m\n\u001b[32m     44\u001b[39m \u001b[38;5;28mprint\u001b[39m(\u001b[33m\"\u001b[39m\u001b[33mData successfully split into train, val, and test sets for each client.\u001b[39m\u001b[33m\"\u001b[39m)\n",
      "\u001b[36mCell\u001b[39m\u001b[36m \u001b[39m\u001b[32mIn[3]\u001b[39m\u001b[32m, line 35\u001b[39m, in \u001b[36msplit_client_data\u001b[39m\u001b[34m(client_folder, train_ratio, val_ratio, test_ratio)\u001b[39m\n\u001b[32m     32\u001b[39m         shutil.move(os.path.join(class_path, image), os.path.join(split_path, image))\n\u001b[32m     34\u001b[39m \u001b[38;5;66;03m# Remove empty class folder\u001b[39;00m\n\u001b[32m---> \u001b[39m\u001b[32m35\u001b[39m \u001b[43mos\u001b[49m\u001b[43m.\u001b[49m\u001b[43mrmdir\u001b[49m\u001b[43m(\u001b[49m\u001b[43mclass_path\u001b[49m\u001b[43m)\u001b[49m\n",
      "\u001b[31mOSError\u001b[39m: [WinError 145] The directory is not empty: 'federated data\\\\client_1\\\\test'"
     ]
    }
   ],
   "source": [
    "def split_client_data(client_folder, train_ratio=0.7, val_ratio=0.15, test_ratio=0.15):\n",
    "    if not os.path.exists(client_folder):\n",
    "        print(f\"Client folder '{client_folder}' does not exist.\")\n",
    "        return\n",
    "    \n",
    "    # Paths for train, val, and test sets\n",
    "    for split in [\"train\", \"val\", \"test\"]:\n",
    "        os.makedirs(os.path.join(client_folder, split), exist_ok=True)\n",
    "    \n",
    "    # Get class subfolders\n",
    "    class_folders = [d for d in os.listdir(client_folder) if os.path.isdir(os.path.join(client_folder, d))]\n",
    "    \n",
    "    for class_name in class_folders:\n",
    "        class_path = os.path.join(client_folder, class_name)\n",
    "        images = os.listdir(class_path)\n",
    "        random.shuffle(images)\n",
    "        \n",
    "        num_images = len(images)\n",
    "        train_end = int(num_images * train_ratio)\n",
    "        val_end = train_end + int(num_images * val_ratio)\n",
    "        \n",
    "        splits = {\n",
    "            \"train\": images[:train_end],\n",
    "            \"val\": images[train_end:val_end],\n",
    "            \"test\": images[val_end:]\n",
    "        }\n",
    "        \n",
    "        for split, split_images in splits.items():\n",
    "            split_path = os.path.join(client_folder, split, class_name)\n",
    "            os.makedirs(split_path, exist_ok=True)\n",
    "            for image in split_images:\n",
    "                shutil.move(os.path.join(class_path, image), os.path.join(split_path, image))\n",
    "        \n",
    "        # Remove empty class folder\n",
    "        os.rmdir(class_path)\n",
    "\n",
    "# Apply split to all clients\n",
    "clients_folder = \"federated data\"\n",
    "for client in os.listdir(clients_folder):\n",
    "    client_path = os.path.join(clients_folder, client)\n",
    "    if os.path.isdir(client_path):\n",
    "        split_client_data(client_path)\n",
    "\n",
    "print(\"Data successfully split into train, val, and test sets for each client.\")"
   ]
  }
 ],
 "metadata": {
  "kernelspec": {
   "display_name": "brtu",
   "language": "python",
   "name": "python3"
  },
  "language_info": {
   "codemirror_mode": {
    "name": "ipython",
    "version": 3
   },
   "file_extension": ".py",
   "mimetype": "text/x-python",
   "name": "python",
   "nbconvert_exporter": "python",
   "pygments_lexer": "ipython3",
   "version": "3.12.9"
  }
 },
 "nbformat": 4,
 "nbformat_minor": 2
}
